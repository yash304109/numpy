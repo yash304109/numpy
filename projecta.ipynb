{
 "cells": [
  {
   "cell_type": "code",
   "execution_count": 2,
   "id": "f9f552dd-7702-46cf-a2f2-63da43c4a45b",
   "metadata": {},
   "outputs": [],
   "source": [
    "import numpy as np"
   ]
  },
  {
   "cell_type": "code",
   "execution_count": 3,
   "id": "277ce93d-628b-4be2-8d32-193b0da8bd77",
   "metadata": {},
   "outputs": [],
   "source": [
    "d=np.array([11,23,13,32,9,30,11,31,11,31,8,24,10,22,10,24,7,20,8,25,-13,30,12,24,9,24,11,32,15,26,14,31,12,28,12,31,15,20,13,25,6,23,13,26,12,21,11,30,7,23,9,24,6,29,10,26,10,20,8,32,13,32,13,24,11,21,6,25,11,31,15,28,11,24,12,24,10,30,9,28,14,20,7,21,7,22,10,28,6,20,10,30,13,22,14,26,8,23,6,20,12,25,10,27,6,25,6,27,12,31,8,32,4,20,7,22,8,19,7,22,4,19,3,2,22,4,4,22,2,18,4,19,8,22,7,20,8,6,20,3,8,22,4,18,8,18,7,18,4,20,5,3,21,7,5,21,5,21,3,18,7,22,5,19,7,5,19,7,11,19,8,18,-10,21,9,19,7,18,12,71,20,11,9,22,9,18,9,19,10,21,8,18,12,10,18,9,11,18,10,19,10,19,10,20,9,21,12,8,22,11,8,18,7,21,9,18,9,20,10,20,11,10,21,11])"
   ]
  },
  {
   "cell_type": "code",
   "execution_count": 4,
   "id": "f8cad2fe-5d6c-4c32-8132-5b01ea600769",
   "metadata": {},
   "outputs": [
    {
     "data": {
      "text/plain": [
       "(224,)"
      ]
     },
     "execution_count": 4,
     "metadata": {},
     "output_type": "execute_result"
    }
   ],
   "source": [
    "d.shape"
   ]
  },
  {
   "cell_type": "code",
   "execution_count": 5,
   "id": "9f5ba982-9f7e-4c38-9c01-431965347dd5",
   "metadata": {},
   "outputs": [],
   "source": [
    "x=np.reshape(d,(4,4,7,2))"
   ]
  },
  {
   "cell_type": "code",
   "execution_count": 6,
   "id": "9e1c5928-b0dd-40dd-9900-058033c95359",
   "metadata": {
    "scrolled": true
   },
   "outputs": [
    {
     "data": {
      "text/plain": [
       "(4, 4, 7, 2)"
      ]
     },
     "execution_count": 6,
     "metadata": {},
     "output_type": "execute_result"
    }
   ],
   "source": [
    "x.shape"
   ]
  },
  {
   "cell_type": "code",
   "execution_count": 7,
   "id": "53945763-43e7-4322-a462-b454f847bb09",
   "metadata": {},
   "outputs": [
    {
     "data": {
      "text/plain": [
       "4"
      ]
     },
     "execution_count": 7,
     "metadata": {},
     "output_type": "execute_result"
    }
   ],
   "source": [
    "x.ndim"
   ]
  },
  {
   "cell_type": "code",
   "execution_count": 8,
   "id": "56a1c747-f6f8-46c6-b67e-6d5f74f57de4",
   "metadata": {},
   "outputs": [
    {
     "name": "stdout",
     "output_type": "stream",
     "text": [
      "[[[[ 11  23]\n",
      "   [ 13  32]\n",
      "   [  9  30]\n",
      "   [ 11  31]\n",
      "   [ 11  31]\n",
      "   [  8  24]\n",
      "   [ 10  22]]\n",
      "\n",
      "  [[ 10  24]\n",
      "   [  7  20]\n",
      "   [  8  25]\n",
      "   [-13  30]\n",
      "   [ 12  24]\n",
      "   [  9  24]\n",
      "   [ 11  32]]\n",
      "\n",
      "  [[ 15  26]\n",
      "   [ 14  31]\n",
      "   [ 12  28]\n",
      "   [ 12  31]\n",
      "   [ 15  20]\n",
      "   [ 13  25]\n",
      "   [  6  23]]\n",
      "\n",
      "  [[ 13  26]\n",
      "   [ 12  21]\n",
      "   [ 11  30]\n",
      "   [  7  23]\n",
      "   [  9  24]\n",
      "   [  6  29]\n",
      "   [ 10  26]]]\n",
      "\n",
      "\n",
      " [[[ 10  20]\n",
      "   [  8  32]\n",
      "   [ 13  32]\n",
      "   [ 13  24]\n",
      "   [ 11  21]\n",
      "   [  6  25]\n",
      "   [ 11  31]]\n",
      "\n",
      "  [[ 15  28]\n",
      "   [ 11  24]\n",
      "   [ 12  24]\n",
      "   [ 10  30]\n",
      "   [  9  28]\n",
      "   [ 14  20]\n",
      "   [  7  21]]\n",
      "\n",
      "  [[  7  22]\n",
      "   [ 10  28]\n",
      "   [  6  20]\n",
      "   [ 10  30]\n",
      "   [ 13  22]\n",
      "   [ 14  26]\n",
      "   [  8  23]]\n",
      "\n",
      "  [[  6  20]\n",
      "   [ 12  25]\n",
      "   [ 10  27]\n",
      "   [  6  25]\n",
      "   [  6  27]\n",
      "   [ 12  31]\n",
      "   [  8  32]]]\n",
      "\n",
      "\n",
      " [[[  4  20]\n",
      "   [  7  22]\n",
      "   [  8  19]\n",
      "   [  7  22]\n",
      "   [  4  19]\n",
      "   [  3   2]\n",
      "   [ 22   4]]\n",
      "\n",
      "  [[  4  22]\n",
      "   [  2  18]\n",
      "   [  4  19]\n",
      "   [  8  22]\n",
      "   [  7  20]\n",
      "   [  8   6]\n",
      "   [ 20   3]]\n",
      "\n",
      "  [[  8  22]\n",
      "   [  4  18]\n",
      "   [  8  18]\n",
      "   [  7  18]\n",
      "   [  4  20]\n",
      "   [  5   3]\n",
      "   [ 21   7]]\n",
      "\n",
      "  [[  5  21]\n",
      "   [  5  21]\n",
      "   [  3  18]\n",
      "   [  7  22]\n",
      "   [  5  19]\n",
      "   [  7   5]\n",
      "   [ 19   7]]]\n",
      "\n",
      "\n",
      " [[[ 11  19]\n",
      "   [  8  18]\n",
      "   [-10  21]\n",
      "   [  9  19]\n",
      "   [  7  18]\n",
      "   [ 12  71]\n",
      "   [ 20  11]]\n",
      "\n",
      "  [[  9  22]\n",
      "   [  9  18]\n",
      "   [  9  19]\n",
      "   [ 10  21]\n",
      "   [  8  18]\n",
      "   [ 12  10]\n",
      "   [ 18   9]]\n",
      "\n",
      "  [[ 11  18]\n",
      "   [ 10  19]\n",
      "   [ 10  19]\n",
      "   [ 10  20]\n",
      "   [  9  21]\n",
      "   [ 12   8]\n",
      "   [ 22  11]]\n",
      "\n",
      "  [[  8  18]\n",
      "   [  7  21]\n",
      "   [  9  18]\n",
      "   [  9  20]\n",
      "   [ 10  20]\n",
      "   [ 11  10]\n",
      "   [ 21  11]]]]\n"
     ]
    }
   ],
   "source": [
    "print(x)"
   ]
  },
  {
   "cell_type": "code",
   "execution_count": 9,
   "id": "53968813-5b3f-4196-b2e3-17af2dbd7759",
   "metadata": {},
   "outputs": [
    {
     "name": "stdout",
     "output_type": "stream",
     "text": [
      "[[[ 11  23]\n",
      "  [ 13  32]\n",
      "  [  9  30]\n",
      "  [ 11  31]\n",
      "  [ 11  31]\n",
      "  [  8  24]\n",
      "  [ 10  22]]\n",
      "\n",
      " [[ 10  20]\n",
      "  [  8  32]\n",
      "  [ 13  32]\n",
      "  [ 13  24]\n",
      "  [ 11  21]\n",
      "  [  6  25]\n",
      "  [ 11  31]]\n",
      "\n",
      " [[  4  20]\n",
      "  [  7  22]\n",
      "  [  8  19]\n",
      "  [  7  22]\n",
      "  [  4  19]\n",
      "  [  3   2]\n",
      "  [ 22   4]]\n",
      "\n",
      " [[ 11  19]\n",
      "  [  8  18]\n",
      "  [-10  21]\n",
      "  [  9  19]\n",
      "  [  7  18]\n",
      "  [ 12  71]\n",
      "  [ 20  11]]]\n"
     ]
    }
   ],
   "source": [
    "print(x[0:4,0]) #daily temperature for the first week of each month"
   ]
  },
  {
   "cell_type": "code",
   "execution_count": 10,
   "id": "b95dcbd3-b389-4294-883c-cf0408f90178",
   "metadata": {},
   "outputs": [
    {
     "name": "stdout",
     "output_type": "stream",
     "text": [
      "[[[13 32]\n",
      "  [ 7 20]\n",
      "  [14 31]\n",
      "  [12 21]]\n",
      "\n",
      " [[ 8 32]\n",
      "  [11 24]\n",
      "  [10 28]\n",
      "  [12 25]]\n",
      "\n",
      " [[ 7 22]\n",
      "  [ 2 18]\n",
      "  [ 4 18]\n",
      "  [ 5 21]]\n",
      "\n",
      " [[ 8 18]\n",
      "  [ 9 18]\n",
      "  [10 19]\n",
      "  [ 7 21]]]\n"
     ]
    }
   ],
   "source": [
    "print(x[0:4,0:7,1]) #4tuesday temperature of each month"
   ]
  },
  {
   "cell_type": "code",
   "execution_count": 11,
   "id": "06fe5316-8753-48c3-b645-a3a9110594ca",
   "metadata": {},
   "outputs": [
    {
     "data": {
      "text/plain": [
       "array([[[[ 11,  23],\n",
       "         [ 13,  32],\n",
       "         [  9,  30],\n",
       "         [ 11,  31],\n",
       "         [ 11,  31],\n",
       "         [  8,  24],\n",
       "         [ 10,  22]],\n",
       "\n",
       "        [[ 10,  24],\n",
       "         [  7,  20],\n",
       "         [  8,  25],\n",
       "         [-13,  30],\n",
       "         [ 12,  24],\n",
       "         [  9,  24],\n",
       "         [ 11,  32]],\n",
       "\n",
       "        [[ 15,  26],\n",
       "         [ 14,  31],\n",
       "         [ 12,  28],\n",
       "         [ 12,  31],\n",
       "         [ 15,  20],\n",
       "         [ 13,  25],\n",
       "         [  6,  23]],\n",
       "\n",
       "        [[ 13,  26],\n",
       "         [ 12,  21],\n",
       "         [ 11,  30],\n",
       "         [  7,  23],\n",
       "         [  9,  24],\n",
       "         [  6,  29],\n",
       "         [ 10,  26]]],\n",
       "\n",
       "\n",
       "       [[[ 10,  20],\n",
       "         [  8,  32],\n",
       "         [ 13,  32],\n",
       "         [ 13,  24],\n",
       "         [ 11,  21],\n",
       "         [  6,  25],\n",
       "         [ 11,  31]],\n",
       "\n",
       "        [[ 15,  28],\n",
       "         [ 11,  24],\n",
       "         [ 12,  24],\n",
       "         [ 10,  30],\n",
       "         [  9,  28],\n",
       "         [ 14,  20],\n",
       "         [  7,  21]],\n",
       "\n",
       "        [[  7,  22],\n",
       "         [ 10,  28],\n",
       "         [  6,  20],\n",
       "         [ 10,  30],\n",
       "         [ 13,  22],\n",
       "         [ 14,  26],\n",
       "         [  8,  23]],\n",
       "\n",
       "        [[  6,  20],\n",
       "         [ 12,  25],\n",
       "         [ 10,  27],\n",
       "         [  6,  25],\n",
       "         [  6,  27],\n",
       "         [ 12,  31],\n",
       "         [  8,  32]]],\n",
       "\n",
       "\n",
       "       [[[  4,  20],\n",
       "         [  7,  22],\n",
       "         [  8,  19],\n",
       "         [  7,  22],\n",
       "         [  4,  19],\n",
       "         [  3,   2],\n",
       "         [ 22,   4]],\n",
       "\n",
       "        [[  4,  22],\n",
       "         [  2,  18],\n",
       "         [  4,  19],\n",
       "         [  8,  22],\n",
       "         [  7,  20],\n",
       "         [  8,   6],\n",
       "         [ 20,   3]],\n",
       "\n",
       "        [[  8,  22],\n",
       "         [  4,  18],\n",
       "         [  8,  18],\n",
       "         [  7,  18],\n",
       "         [  4,  20],\n",
       "         [  5,   3],\n",
       "         [ 21,   7]],\n",
       "\n",
       "        [[  5,  21],\n",
       "         [  5,  21],\n",
       "         [  3,  18],\n",
       "         [  7,  22],\n",
       "         [  5,  19],\n",
       "         [  7,   5],\n",
       "         [ 19,   7]]],\n",
       "\n",
       "\n",
       "       [[[ 11,  19],\n",
       "         [  8,  18],\n",
       "         [-10,  21],\n",
       "         [  9,  19],\n",
       "         [  7,  18],\n",
       "         [ 12,  71],\n",
       "         [ 20,  11]],\n",
       "\n",
       "        [[  9,  22],\n",
       "         [  9,  18],\n",
       "         [  9,  19],\n",
       "         [ 10,  21],\n",
       "         [  8,  18],\n",
       "         [ 12,  10],\n",
       "         [ 18,   9]],\n",
       "\n",
       "        [[ 11,  18],\n",
       "         [ 10,  19],\n",
       "         [ 10,  19],\n",
       "         [ 10,  20],\n",
       "         [  9,  21],\n",
       "         [ 12,   8],\n",
       "         [ 22,  11]],\n",
       "\n",
       "        [[  8,  18],\n",
       "         [  7,  21],\n",
       "         [  9,  18],\n",
       "         [  9,  20],\n",
       "         [ 10,  20],\n",
       "         [ 11,  10],\n",
       "         [ 21,  11]]]])"
      ]
     },
     "execution_count": 11,
     "metadata": {},
     "output_type": "execute_result"
    }
   ],
   "source": [
    "x"
   ]
  },
  {
   "cell_type": "code",
   "execution_count": 12,
   "id": "6f688073-3552-4d2f-885b-e40469091a9f",
   "metadata": {},
   "outputs": [
    {
     "name": "stdout",
     "output_type": "stream",
     "text": [
      "[[[20 32 32 24 21 25 31]\n",
      "  [28 24 24 30 28 20 21]\n",
      "  [22 28 20 30 22 26 23]\n",
      "  [20 25 27 25 27 31 32]]\n",
      "\n",
      " [[19 18 21 19 18 71 11]\n",
      "  [22 18 19 21 18 10  9]\n",
      "  [18 19 19 20 21  8 11]\n",
      "  [18 21 18 20 20 10 11]]]\n"
     ]
    }
   ],
   "source": [
    "print(x[1:4:2,0:4,0:7,1]) #5max temp for all w d of dec and feb"
   ]
  },
  {
   "cell_type": "code",
   "execution_count": 38,
   "id": "e4158d0b-d9b2-41e4-9356-4f370e056111",
   "metadata": {},
   "outputs": [
    {
     "name": "stdout",
     "output_type": "stream",
     "text": [
      "week number: 1\n",
      "[]\n",
      "week number: 2\n",
      "[  7 -13]\n",
      "week number: 3\n",
      "[6]\n",
      "week number: 4\n",
      "[7 6]\n"
     ]
    }
   ],
   "source": [
    "#6 nov less than 8\n",
    "for i in range(0,4):\n",
    "    y=x[0,i:i+1,0:7,0]\n",
    "    z=x[0,i:i+1,0:7,0]<8\n",
    "    print(\"week number:\",i+1)\n",
    "    print(y[z])"
   ]
  },
  {
   "cell_type": "code",
   "execution_count": 14,
   "id": "004da8fc-9f7e-4228-9e2d-2a0feec57e56",
   "metadata": {},
   "outputs": [],
   "source": [
    "z=x[0,0:4,0:7,0]<8"
   ]
  },
  {
   "cell_type": "code",
   "execution_count": 15,
   "id": "22c0356e-52c9-4f07-b92c-ed1078d77648",
   "metadata": {},
   "outputs": [
    {
     "name": "stdout",
     "output_type": "stream",
     "text": [
      "[  7 -13   6   7   6]\n"
     ]
    }
   ],
   "source": [
    "print(y[z]) #nov less than 8"
   ]
  },
  {
   "cell_type": "code",
   "execution_count": 16,
   "id": "645e6ac9-4a5e-4559-ab23-7b8a02dfe524",
   "metadata": {},
   "outputs": [],
   "source": [
    "k=x[1:3,0:4,0:7,1] #7dec and jan temp greater then 20"
   ]
  },
  {
   "cell_type": "code",
   "execution_count": 17,
   "id": "5ccbaa97-e46a-4cb5-9fce-08161872aa57",
   "metadata": {},
   "outputs": [],
   "source": [
    "l=x[1:3,0:4,0:7,1]>20"
   ]
  },
  {
   "cell_type": "code",
   "execution_count": 18,
   "id": "33e54204-bf2d-4d04-b4b5-e2c2878c395b",
   "metadata": {},
   "outputs": [
    {
     "name": "stdout",
     "output_type": "stream",
     "text": [
      "[32 32 24 21 25 31 28 24 24 30 28 21 22 28 30 22 26 23 25 27 25 27 31 32\n",
      " 22 22 22 22 22 21 21 22]\n"
     ]
    }
   ],
   "source": [
    "print(k[l])"
   ]
  },
  {
   "cell_type": "code",
   "execution_count": 19,
   "id": "e69ec9cf-baab-4693-89c5-10977ce2881f",
   "metadata": {},
   "outputs": [],
   "source": [
    "s=np.mean(x[2:4,0:4,0:7,1]) #12. ang max temp for all winter months in jaipur"
   ]
  },
  {
   "cell_type": "code",
   "execution_count": 20,
   "id": "a38d6d24-a63b-4fe7-8dc0-672fee2df3d7",
   "metadata": {},
   "outputs": [
    {
     "name": "stdout",
     "output_type": "stream",
     "text": [
      "17.232142857142858\n"
     ]
    }
   ],
   "source": [
    "print(s)"
   ]
  },
  {
   "cell_type": "code",
   "execution_count": 21,
   "id": "22039f07-3278-4be6-a290-9f65c8c4c979",
   "metadata": {},
   "outputs": [
    {
     "name": "stdout",
     "output_type": "stream",
     "text": [
      "17.785714285714285\n"
     ]
    }
   ],
   "source": [
    "print(np.mean(x[1])) #13 min avg temp dec months"
   ]
  },
  {
   "cell_type": "code",
   "execution_count": 22,
   "id": "5f3c88b1-7d64-4ec0-8294-8e6243105609",
   "metadata": {},
   "outputs": [
    {
     "name": "stdout",
     "output_type": "stream",
     "text": [
      "14.723214285714286\n"
     ]
    }
   ],
   "source": [
    "print(np.mean(x[1:3])) #14 avg temp for dec and jan"
   ]
  },
  {
   "cell_type": "code",
   "execution_count": 23,
   "id": "b988ef3e-6d1d-4ae8-8b58-f3836b29634a",
   "metadata": {},
   "outputs": [],
   "source": [
    "a=np.mean(x[0,0:4,0:7,1]) #17 nov below avg "
   ]
  },
  {
   "cell_type": "code",
   "execution_count": 24,
   "id": "c0ec74c4-2e81-476b-bbb0-0339c1d0082e",
   "metadata": {},
   "outputs": [],
   "source": [
    "b=x[0,0:4,0:7,1]"
   ]
  },
  {
   "cell_type": "code",
   "execution_count": 25,
   "id": "c381ebf9-e729-48c4-ab23-a8d675a61788",
   "metadata": {},
   "outputs": [],
   "source": [
    "c=b<a"
   ]
  },
  {
   "cell_type": "code",
   "execution_count": 26,
   "id": "766131b6-6090-43b2-9b29-0b283b77b5be",
   "metadata": {},
   "outputs": [
    {
     "name": "stdout",
     "output_type": "stream",
     "text": [
      "(17,)\n"
     ]
    }
   ],
   "source": [
    "print(np.shape(b[c]))"
   ]
  },
  {
   "cell_type": "code",
   "execution_count": null,
   "id": "f608c5c2-a9a0-4b85-aa4c-902d1bb36101",
   "metadata": {},
   "outputs": [],
   "source": []
  },
  {
   "cell_type": "code",
   "execution_count": null,
   "id": "55c03a80-701c-41de-964c-85ca1337fe43",
   "metadata": {},
   "outputs": [],
   "source": []
  }
 ],
 "metadata": {
  "kernelspec": {
   "display_name": "Python 3 (ipykernel)",
   "language": "python",
   "name": "python3"
  },
  "language_info": {
   "codemirror_mode": {
    "name": "ipython",
    "version": 3
   },
   "file_extension": ".py",
   "mimetype": "text/x-python",
   "name": "python",
   "nbconvert_exporter": "python",
   "pygments_lexer": "ipython3",
   "version": "3.9.13"
  }
 },
 "nbformat": 4,
 "nbformat_minor": 5
}
